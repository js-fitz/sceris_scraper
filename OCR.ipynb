{
 "cells": [
  {
   "cell_type": "code",
   "execution_count": 1,
   "metadata": {},
   "outputs": [],
   "source": [
    "import os\n",
    "import pickle\n",
    "import pytesseract\n",
    "from PIL import Image\n",
    "from tqdm.notebook import tqdm"
   ]
  },
  {
   "cell_type": "markdown",
   "metadata": {},
   "source": [
    "# needs to be updated to reflect downloaded file structure"
   ]
  },
  {
   "cell_type": "code",
   "execution_count": 4,
   "metadata": {},
   "outputs": [
    {
     "data": {
      "application/vnd.jupyter.widget-view+json": {
       "model_id": "0f1e3cbc8e44478f983b0c4a24c322b6",
       "version_major": 2,
       "version_minor": 0
      },
      "text/plain": [
       "HBox(children=(HTML(value=''), FloatProgress(value=0.0, max=2.0), HTML(value='')))"
      ]
     },
     "metadata": {},
     "output_type": "display_data"
    },
    {
     "name": "stdout",
     "output_type": "stream",
     "text": [
      "\n"
     ]
    },
    {
     "ename": "NotADirectoryError",
     "evalue": "[Errno 20] Not a directory: 'ward_name/01 east boston/77 MORRIS [COO943274] 06_12_2019.tif'",
     "output_type": "error",
     "traceback": [
      "\u001b[0;31m---------------------------------------------------------------------------\u001b[0m",
      "\u001b[0;31mNotADirectoryError\u001b[0m                        Traceback (most recent call last)",
      "\u001b[0;32m<ipython-input-4-a35640a2ae2f>\u001b[0m in \u001b[0;36m<module>\u001b[0;34m\u001b[0m\n\u001b[1;32m      6\u001b[0m     \u001b[0;32mfor\u001b[0m \u001b[0mi\u001b[0m\u001b[0;34m,\u001b[0m \u001b[0msub_adrs\u001b[0m \u001b[0;32min\u001b[0m \u001b[0menumerate\u001b[0m\u001b[0;34m(\u001b[0m\u001b[0mgrp_dir\u001b[0m\u001b[0;34m)\u001b[0m\u001b[0;34m:\u001b[0m\u001b[0;34m\u001b[0m\u001b[0;34m\u001b[0m\u001b[0m\n\u001b[1;32m      7\u001b[0m         \u001b[0;32mif\u001b[0m \u001b[0;34m'_Store'\u001b[0m \u001b[0;32min\u001b[0m \u001b[0msub_adrs\u001b[0m\u001b[0;34m:\u001b[0m \u001b[0;32mcontinue\u001b[0m\u001b[0;34m\u001b[0m\u001b[0;34m\u001b[0m\u001b[0m\n\u001b[0;32m----> 8\u001b[0;31m         \u001b[0madrs_files\u001b[0m \u001b[0;34m=\u001b[0m \u001b[0mos\u001b[0m\u001b[0;34m.\u001b[0m\u001b[0mlistdir\u001b[0m\u001b[0;34m(\u001b[0m\u001b[0;34mf'ward_name/{grp_adrs}/{sub_adrs}'\u001b[0m\u001b[0;34m)\u001b[0m\u001b[0;34m\u001b[0m\u001b[0;34m\u001b[0m\u001b[0m\n\u001b[0m\u001b[1;32m      9\u001b[0m         \u001b[0;32mfor\u001b[0m \u001b[0mfi\u001b[0m\u001b[0;34m,\u001b[0m \u001b[0mfile\u001b[0m \u001b[0;32min\u001b[0m \u001b[0menumerate\u001b[0m\u001b[0;34m(\u001b[0m\u001b[0madrs_files\u001b[0m\u001b[0;34m)\u001b[0m\u001b[0;34m:\u001b[0m\u001b[0;34m\u001b[0m\u001b[0;34m\u001b[0m\u001b[0m\n\u001b[1;32m     10\u001b[0m             \u001b[0;32mif\u001b[0m \u001b[0mfile\u001b[0m\u001b[0;34m[\u001b[0m\u001b[0;34m:\u001b[0m\u001b[0;34m-\u001b[0m\u001b[0;36m3\u001b[0m\u001b[0;34m]\u001b[0m\u001b[0;34m+\u001b[0m\u001b[0;34m'txt'\u001b[0m \u001b[0;32min\u001b[0m \u001b[0madrs_files\u001b[0m\u001b[0;34m:\u001b[0m \u001b[0;32mcontinue\u001b[0m\u001b[0;34m\u001b[0m\u001b[0;34m\u001b[0m\u001b[0m\n",
      "\u001b[0;31mNotADirectoryError\u001b[0m: [Errno 20] Not a directory: 'ward_name/01 east boston/77 MORRIS [COO943274] 06_12_2019.tif'"
     ]
    }
   ],
   "source": [
    "# import data\n",
    "enum = 0\n",
    "for ward in tqdm(os.listdir('ward_name')):\n",
    "    if '_Store' in ward: continue\n",
    "        \n",
    "    ward_dir = os.listdir(f'ward_name/{ward}')\n",
    "    \n",
    "    for i, sub_adrs in enumerate(ward_dir):\n",
    "        \n",
    "        if '_Store' in sub_adrs: continue\n",
    "        adrs_files = os.listdir(f'ward_name/{grp_adrs}/{sub_adrs}')\n",
    "        for fi, file in enumerate(adrs_files):\n",
    "            if file[:-3]+'txt' in adrs_files: continue\n",
    "            try:\n",
    "                if '_Store' in file or 'txt' in file: continue\n",
    "                enum += 1\n",
    "                print(f'\\r{enum} > {sub_adrs} {i}/{len(grp_dir)} | File {fi}/{len(adrs_files)}', end=' '*30 )\n",
    "                fname = f'ward_name/{grp_adrs}/{sub_adrs}/{file}'\n",
    "                image = Image.open(fname)\n",
    "                ocr_res = pytesseract.image_to_string(image) \n",
    "                if ocr_res== '': continue\n",
    "                with open(fname[:-3]+'txt', \"wb\" ) as save_file:\n",
    "                    pickle.dump( ocr_res, save_file)\n",
    "                    \n",
    "                # EXECUTIVE SUITE HOTWORDS\n",
    "                if 'exec' in ocr_res.lower() or 'utive' in ocr_res.lower() or 'suite' in ocr_res.lower():\n",
    "                    print('—'*80)\n",
    "                    print('HIT:', fname)\n",
    "                    print('\\n'.join([line for line in ocr_res.split(\"\\n\") if line.strip() != \"\"]))\n",
    "            except: print(f\"\\n  >>> ERROR -- NOT SAVED: '{fname}' \\n\")\n",
    "                \n",
    "print('—'*30, f'\\nDONE')"
   ]
  },
  {
   "cell_type": "code",
   "execution_count": null,
   "metadata": {},
   "outputs": [],
   "source": []
  }
 ],
 "metadata": {
  "kernelspec": {
   "display_name": "Python 3",
   "language": "python",
   "name": "python3"
  },
  "language_info": {
   "codemirror_mode": {
    "name": "ipython",
    "version": 3
   },
   "file_extension": ".py",
   "mimetype": "text/x-python",
   "name": "python",
   "nbconvert_exporter": "python",
   "pygments_lexer": "ipython3",
   "version": "3.8.5"
  }
 },
 "nbformat": 4,
 "nbformat_minor": 4
}
